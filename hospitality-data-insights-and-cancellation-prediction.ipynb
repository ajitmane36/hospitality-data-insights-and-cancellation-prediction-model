{
 "cells": [
  {
   "cell_type": "markdown",
   "id": "52bdbc47-c8e0-4039-8c52-0f2d4e865ba5",
   "metadata": {},
   "source": [
    "# <u>hospitality-data-insights-and-cancellation-prediction</u>"
   ]
  },
  {
   "cell_type": "code",
   "execution_count": null,
   "id": "6eab93f3-5b72-4a8f-bcd1-09af986b9247",
   "metadata": {},
   "outputs": [],
   "source": []
  }
 ],
 "metadata": {
  "kernelspec": {
   "display_name": "Python 3 (ipykernel)",
   "language": "python",
   "name": "python3"
  },
  "language_info": {
   "codemirror_mode": {
    "name": "ipython",
    "version": 3
   },
   "file_extension": ".py",
   "mimetype": "text/x-python",
   "name": "python",
   "nbconvert_exporter": "python",
   "pygments_lexer": "ipython3",
   "version": "3.12.3"
  }
 },
 "nbformat": 4,
 "nbformat_minor": 5
}
