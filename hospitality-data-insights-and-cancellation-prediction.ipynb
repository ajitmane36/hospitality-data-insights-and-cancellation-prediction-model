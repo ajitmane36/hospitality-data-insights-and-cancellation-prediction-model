{
 "cells": [
  {
   "cell_type": "markdown",
   "id": "52bdbc47-c8e0-4039-8c52-0f2d4e865ba5",
   "metadata": {},
   "source": [
    "# <u>Hospitality-Data-Insights-and-Cancellation-Prediction</u>"
   ]
  },
  {
   "cell_type": "markdown",
   "id": "8be145dd-6066-4fa8-868b-028d810418df",
   "metadata": {},
   "source": [
    "[GitHub Link](https://github.com/ajitmane36/hospitality-data-insights-and-cancellation-prediction-model.git) "
   ]
  },
  {
   "cell_type": "markdown",
   "id": "805a498c-5ad8-468f-a374-b889d8d4715a",
   "metadata": {},
   "source": [
    "#### Problem Statement"
   ]
  },
  {
   "cell_type": "markdown",
   "id": "d460fee1-bfaf-466c-bb98-9fe80a27c3db",
   "metadata": {},
   "source": [
    "- Analyse the data to find trends, customer behaviour, and factors influencing cancellation for the hospitality industry. The goal is to build a predictive model that forecasts cancellations and provides insight into a given dataset."
   ]
  },
  {
   "cell_type": "code",
   "execution_count": 6,
   "id": "eb19e13f-36f8-4fe7-8697-1fd994132ab5",
   "metadata": {
    "execution": {
     "iopub.execute_input": "2024-08-27T15:15:20.239193Z",
     "iopub.status.busy": "2024-08-27T15:15:20.239193Z",
     "iopub.status.idle": "2024-08-27T15:15:24.302885Z",
     "shell.execute_reply": "2024-08-27T15:15:24.302885Z",
     "shell.execute_reply.started": "2024-08-27T15:15:20.239193Z"
    }
   },
   "outputs": [],
   "source": [
    "# Import dependancies\n",
    "import numpy as np\n",
    "import scipy as sc\n",
    "import pandas as pd\n",
    "import matplotlib.pyplot as plt\n",
    "%matplotlib inline\n",
    "import seaborn as sns\n",
    "\n",
    "from warnings import filterwarnings\n",
    "filterwarnings('ignore')"
   ]
  },
  {
   "cell_type": "markdown",
   "id": "bff15536-9de2-4554-ae44-38f0a635fcac",
   "metadata": {},
   "source": [
    "#### Dataset"
   ]
  },
  {
   "cell_type": "code",
   "execution_count": 8,
   "id": "4168ee8b-f2cd-42c3-b1c9-58bcca4e14cf",
   "metadata": {
    "execution": {
     "iopub.execute_input": "2024-08-27T15:15:24.385015Z",
     "iopub.status.busy": "2024-08-27T15:15:24.377016Z",
     "iopub.status.idle": "2024-08-27T15:15:25.117726Z",
     "shell.execute_reply": "2024-08-27T15:15:25.115681Z",
     "shell.execute_reply.started": "2024-08-27T15:15:24.385015Z"
    }
   },
   "outputs": [
    {
     "data": {
      "text/html": [
       "<div>\n",
       "<style scoped>\n",
       "    .dataframe tbody tr th:only-of-type {\n",
       "        vertical-align: middle;\n",
       "    }\n",
       "\n",
       "    .dataframe tbody tr th {\n",
       "        vertical-align: top;\n",
       "    }\n",
       "\n",
       "    .dataframe thead th {\n",
       "        text-align: right;\n",
       "    }\n",
       "</style>\n",
       "<table border=\"1\" class=\"dataframe\">\n",
       "  <thead>\n",
       "    <tr style=\"text-align: right;\">\n",
       "      <th></th>\n",
       "      <th>hotel</th>\n",
       "      <th>is_canceled</th>\n",
       "      <th>lead_time</th>\n",
       "      <th>arrival_date_year</th>\n",
       "      <th>arrival_date_month</th>\n",
       "      <th>arrival_date_week_number</th>\n",
       "      <th>arrival_date_day_of_month</th>\n",
       "      <th>stays_in_weekend_nights</th>\n",
       "      <th>stays_in_week_nights</th>\n",
       "      <th>adults</th>\n",
       "      <th>children</th>\n",
       "      <th>babies</th>\n",
       "      <th>meal</th>\n",
       "      <th>country</th>\n",
       "      <th>market_segment</th>\n",
       "      <th>distribution_channel</th>\n",
       "      <th>is_repeated_guest</th>\n",
       "      <th>previous_cancellations</th>\n",
       "      <th>previous_bookings_not_canceled</th>\n",
       "      <th>reserved_room_type</th>\n",
       "      <th>assigned_room_type</th>\n",
       "      <th>booking_changes</th>\n",
       "      <th>deposit_type</th>\n",
       "      <th>agent</th>\n",
       "      <th>company</th>\n",
       "      <th>days_in_waiting_list</th>\n",
       "      <th>customer_type</th>\n",
       "      <th>adr</th>\n",
       "      <th>required_car_parking_spaces</th>\n",
       "      <th>total_of_special_requests</th>\n",
       "      <th>reservation_status</th>\n",
       "      <th>reservation_status_date</th>\n",
       "    </tr>\n",
       "  </thead>\n",
       "  <tbody>\n",
       "    <tr>\n",
       "      <th>0</th>\n",
       "      <td>Resort Hotel</td>\n",
       "      <td>0</td>\n",
       "      <td>342</td>\n",
       "      <td>2015</td>\n",
       "      <td>July</td>\n",
       "      <td>27</td>\n",
       "      <td>1</td>\n",
       "      <td>0</td>\n",
       "      <td>0</td>\n",
       "      <td>2</td>\n",
       "      <td>0.0</td>\n",
       "      <td>0</td>\n",
       "      <td>BB</td>\n",
       "      <td>PRT</td>\n",
       "      <td>Direct</td>\n",
       "      <td>Direct</td>\n",
       "      <td>0</td>\n",
       "      <td>0</td>\n",
       "      <td>0</td>\n",
       "      <td>C</td>\n",
       "      <td>C</td>\n",
       "      <td>3</td>\n",
       "      <td>No Deposit</td>\n",
       "      <td>NaN</td>\n",
       "      <td>NaN</td>\n",
       "      <td>0</td>\n",
       "      <td>Transient</td>\n",
       "      <td>0.0</td>\n",
       "      <td>0</td>\n",
       "      <td>0</td>\n",
       "      <td>Check-Out</td>\n",
       "      <td>2015-07-01</td>\n",
       "    </tr>\n",
       "    <tr>\n",
       "      <th>1</th>\n",
       "      <td>Resort Hotel</td>\n",
       "      <td>0</td>\n",
       "      <td>737</td>\n",
       "      <td>2015</td>\n",
       "      <td>July</td>\n",
       "      <td>27</td>\n",
       "      <td>1</td>\n",
       "      <td>0</td>\n",
       "      <td>0</td>\n",
       "      <td>2</td>\n",
       "      <td>0.0</td>\n",
       "      <td>0</td>\n",
       "      <td>BB</td>\n",
       "      <td>PRT</td>\n",
       "      <td>Direct</td>\n",
       "      <td>Direct</td>\n",
       "      <td>0</td>\n",
       "      <td>0</td>\n",
       "      <td>0</td>\n",
       "      <td>C</td>\n",
       "      <td>C</td>\n",
       "      <td>4</td>\n",
       "      <td>No Deposit</td>\n",
       "      <td>NaN</td>\n",
       "      <td>NaN</td>\n",
       "      <td>0</td>\n",
       "      <td>Transient</td>\n",
       "      <td>0.0</td>\n",
       "      <td>0</td>\n",
       "      <td>0</td>\n",
       "      <td>Check-Out</td>\n",
       "      <td>2015-07-01</td>\n",
       "    </tr>\n",
       "    <tr>\n",
       "      <th>2</th>\n",
       "      <td>Resort Hotel</td>\n",
       "      <td>0</td>\n",
       "      <td>7</td>\n",
       "      <td>2015</td>\n",
       "      <td>July</td>\n",
       "      <td>27</td>\n",
       "      <td>1</td>\n",
       "      <td>0</td>\n",
       "      <td>1</td>\n",
       "      <td>1</td>\n",
       "      <td>0.0</td>\n",
       "      <td>0</td>\n",
       "      <td>BB</td>\n",
       "      <td>GBR</td>\n",
       "      <td>Direct</td>\n",
       "      <td>Direct</td>\n",
       "      <td>0</td>\n",
       "      <td>0</td>\n",
       "      <td>0</td>\n",
       "      <td>A</td>\n",
       "      <td>C</td>\n",
       "      <td>0</td>\n",
       "      <td>No Deposit</td>\n",
       "      <td>NaN</td>\n",
       "      <td>NaN</td>\n",
       "      <td>0</td>\n",
       "      <td>Transient</td>\n",
       "      <td>75.0</td>\n",
       "      <td>0</td>\n",
       "      <td>0</td>\n",
       "      <td>Check-Out</td>\n",
       "      <td>2015-07-02</td>\n",
       "    </tr>\n",
       "    <tr>\n",
       "      <th>3</th>\n",
       "      <td>Resort Hotel</td>\n",
       "      <td>0</td>\n",
       "      <td>13</td>\n",
       "      <td>2015</td>\n",
       "      <td>July</td>\n",
       "      <td>27</td>\n",
       "      <td>1</td>\n",
       "      <td>0</td>\n",
       "      <td>1</td>\n",
       "      <td>1</td>\n",
       "      <td>0.0</td>\n",
       "      <td>0</td>\n",
       "      <td>BB</td>\n",
       "      <td>GBR</td>\n",
       "      <td>Corporate</td>\n",
       "      <td>Corporate</td>\n",
       "      <td>0</td>\n",
       "      <td>0</td>\n",
       "      <td>0</td>\n",
       "      <td>A</td>\n",
       "      <td>A</td>\n",
       "      <td>0</td>\n",
       "      <td>No Deposit</td>\n",
       "      <td>304.0</td>\n",
       "      <td>NaN</td>\n",
       "      <td>0</td>\n",
       "      <td>Transient</td>\n",
       "      <td>75.0</td>\n",
       "      <td>0</td>\n",
       "      <td>0</td>\n",
       "      <td>Check-Out</td>\n",
       "      <td>2015-07-02</td>\n",
       "    </tr>\n",
       "    <tr>\n",
       "      <th>4</th>\n",
       "      <td>Resort Hotel</td>\n",
       "      <td>0</td>\n",
       "      <td>14</td>\n",
       "      <td>2015</td>\n",
       "      <td>July</td>\n",
       "      <td>27</td>\n",
       "      <td>1</td>\n",
       "      <td>0</td>\n",
       "      <td>2</td>\n",
       "      <td>2</td>\n",
       "      <td>0.0</td>\n",
       "      <td>0</td>\n",
       "      <td>BB</td>\n",
       "      <td>GBR</td>\n",
       "      <td>Online TA</td>\n",
       "      <td>TA/TO</td>\n",
       "      <td>0</td>\n",
       "      <td>0</td>\n",
       "      <td>0</td>\n",
       "      <td>A</td>\n",
       "      <td>A</td>\n",
       "      <td>0</td>\n",
       "      <td>No Deposit</td>\n",
       "      <td>240.0</td>\n",
       "      <td>NaN</td>\n",
       "      <td>0</td>\n",
       "      <td>Transient</td>\n",
       "      <td>98.0</td>\n",
       "      <td>0</td>\n",
       "      <td>1</td>\n",
       "      <td>Check-Out</td>\n",
       "      <td>2015-07-03</td>\n",
       "    </tr>\n",
       "  </tbody>\n",
       "</table>\n",
       "</div>"
      ],
      "text/plain": [
       "          hotel  is_canceled  lead_time  arrival_date_year arrival_date_month  \\\n",
       "0  Resort Hotel            0        342               2015               July   \n",
       "1  Resort Hotel            0        737               2015               July   \n",
       "2  Resort Hotel            0          7               2015               July   \n",
       "3  Resort Hotel            0         13               2015               July   \n",
       "4  Resort Hotel            0         14               2015               July   \n",
       "\n",
       "   arrival_date_week_number  arrival_date_day_of_month  \\\n",
       "0                        27                          1   \n",
       "1                        27                          1   \n",
       "2                        27                          1   \n",
       "3                        27                          1   \n",
       "4                        27                          1   \n",
       "\n",
       "   stays_in_weekend_nights  stays_in_week_nights  adults  children  babies  \\\n",
       "0                        0                     0       2       0.0       0   \n",
       "1                        0                     0       2       0.0       0   \n",
       "2                        0                     1       1       0.0       0   \n",
       "3                        0                     1       1       0.0       0   \n",
       "4                        0                     2       2       0.0       0   \n",
       "\n",
       "  meal country market_segment distribution_channel  is_repeated_guest  \\\n",
       "0   BB     PRT         Direct               Direct                  0   \n",
       "1   BB     PRT         Direct               Direct                  0   \n",
       "2   BB     GBR         Direct               Direct                  0   \n",
       "3   BB     GBR      Corporate            Corporate                  0   \n",
       "4   BB     GBR      Online TA                TA/TO                  0   \n",
       "\n",
       "   previous_cancellations  previous_bookings_not_canceled reserved_room_type  \\\n",
       "0                       0                               0                  C   \n",
       "1                       0                               0                  C   \n",
       "2                       0                               0                  A   \n",
       "3                       0                               0                  A   \n",
       "4                       0                               0                  A   \n",
       "\n",
       "  assigned_room_type  booking_changes deposit_type  agent  company  \\\n",
       "0                  C                3   No Deposit    NaN      NaN   \n",
       "1                  C                4   No Deposit    NaN      NaN   \n",
       "2                  C                0   No Deposit    NaN      NaN   \n",
       "3                  A                0   No Deposit  304.0      NaN   \n",
       "4                  A                0   No Deposit  240.0      NaN   \n",
       "\n",
       "   days_in_waiting_list customer_type   adr  required_car_parking_spaces  \\\n",
       "0                     0     Transient   0.0                            0   \n",
       "1                     0     Transient   0.0                            0   \n",
       "2                     0     Transient  75.0                            0   \n",
       "3                     0     Transient  75.0                            0   \n",
       "4                     0     Transient  98.0                            0   \n",
       "\n",
       "   total_of_special_requests reservation_status reservation_status_date  \n",
       "0                          0          Check-Out              2015-07-01  \n",
       "1                          0          Check-Out              2015-07-01  \n",
       "2                          0          Check-Out              2015-07-02  \n",
       "3                          0          Check-Out              2015-07-02  \n",
       "4                          1          Check-Out              2015-07-03  "
      ]
     },
     "execution_count": 8,
     "metadata": {},
     "output_type": "execute_result"
    }
   ],
   "source": [
    "# Load dataset\n",
    "df=pd.read_csv(r\"C:\\Users\\ajitm\\Data Science Cources\\Deep Learning Projects\\hospitality-data-insights-and-cancellation-prediction-model\\hotel_bookings.csv\")\n",
    "pd.set_option('display.max_columns', None)\n",
    "df.head()"
   ]
  },
  {
   "cell_type": "code",
   "execution_count": 9,
   "id": "71d6557c-5c19-49dc-9c4b-4dd42d0b5ad3",
   "metadata": {
    "execution": {
     "iopub.execute_input": "2024-08-27T15:15:25.117726Z",
     "iopub.status.busy": "2024-08-27T15:15:25.117726Z",
     "iopub.status.idle": "2024-08-27T15:15:25.132098Z",
     "shell.execute_reply": "2024-08-27T15:15:25.132098Z",
     "shell.execute_reply.started": "2024-08-27T15:15:25.117726Z"
    }
   },
   "outputs": [
    {
     "name": "stdout",
     "output_type": "stream",
     "text": [
      "Dataset has 119390 rows and 32 columns.\n"
     ]
    }
   ],
   "source": [
    "# shape\n",
    "print(f\"Dataset has {df.shape[0]} rows and {df.shape[1]} columns.\")"
   ]
  },
  {
   "cell_type": "code",
   "execution_count": 10,
   "id": "0b3bb4e8-20f2-43a8-92e6-e2b8596ebf07",
   "metadata": {
    "execution": {
     "iopub.execute_input": "2024-08-27T15:15:25.134458Z",
     "iopub.status.busy": "2024-08-27T15:15:25.134458Z",
     "iopub.status.idle": "2024-08-27T15:15:25.256837Z",
     "shell.execute_reply": "2024-08-27T15:15:25.254478Z",
     "shell.execute_reply.started": "2024-08-27T15:15:25.134458Z"
    }
   },
   "outputs": [
    {
     "name": "stdout",
     "output_type": "stream",
     "text": [
      "Column names: Index(['hotel', 'is_canceled', 'lead_time', 'arrival_date_year',\n",
      "       'arrival_date_month', 'arrival_date_week_number',\n",
      "       'arrival_date_day_of_month', 'stays_in_weekend_nights',\n",
      "       'stays_in_week_nights', 'adults', 'children', 'babies', 'meal',\n",
      "       'country', 'market_segment', 'distribution_channel',\n",
      "       'is_repeated_guest', 'previous_cancellations',\n",
      "       'previous_bookings_not_canceled', 'reserved_room_type',\n",
      "       'assigned_room_type', 'booking_changes', 'deposit_type', 'agent',\n",
      "       'company', 'days_in_waiting_list', 'customer_type', 'adr',\n",
      "       'required_car_parking_spaces', 'total_of_special_requests',\n",
      "       'reservation_status', 'reservation_status_date'],\n",
      "      dtype='object')\n",
      "---------------------------------------------------------------------------------------------------- \n",
      " Dataset has 32 columns\n"
     ]
    }
   ],
   "source": [
    "# Columns\n",
    "print(f'Column names: {df.columns}')\n",
    "print(f\"{'--'*50} \\n Dataset has {len(df.columns)} columns\")"
   ]
  },
  {
   "cell_type": "code",
   "execution_count": 11,
   "id": "ed61ffa6-190c-428b-8082-d9a1a3b8baa2",
   "metadata": {
    "execution": {
     "iopub.execute_input": "2024-08-27T15:15:25.262100Z",
     "iopub.status.busy": "2024-08-27T15:15:25.256837Z",
     "iopub.status.idle": "2024-08-27T15:15:25.461473Z",
     "shell.execute_reply": "2024-08-27T15:15:25.459739Z",
     "shell.execute_reply.started": "2024-08-27T15:15:25.262100Z"
    }
   },
   "outputs": [
    {
     "name": "stdout",
     "output_type": "stream",
     "text": [
      "<class 'pandas.core.frame.DataFrame'>\n",
      "RangeIndex: 119390 entries, 0 to 119389\n",
      "Data columns (total 32 columns):\n",
      " #   Column                          Non-Null Count   Dtype  \n",
      "---  ------                          --------------   -----  \n",
      " 0   hotel                           119390 non-null  object \n",
      " 1   is_canceled                     119390 non-null  int64  \n",
      " 2   lead_time                       119390 non-null  int64  \n",
      " 3   arrival_date_year               119390 non-null  int64  \n",
      " 4   arrival_date_month              119390 non-null  object \n",
      " 5   arrival_date_week_number        119390 non-null  int64  \n",
      " 6   arrival_date_day_of_month       119390 non-null  int64  \n",
      " 7   stays_in_weekend_nights         119390 non-null  int64  \n",
      " 8   stays_in_week_nights            119390 non-null  int64  \n",
      " 9   adults                          119390 non-null  int64  \n",
      " 10  children                        119386 non-null  float64\n",
      " 11  babies                          119390 non-null  int64  \n",
      " 12  meal                            119390 non-null  object \n",
      " 13  country                         118902 non-null  object \n",
      " 14  market_segment                  119390 non-null  object \n",
      " 15  distribution_channel            119390 non-null  object \n",
      " 16  is_repeated_guest               119390 non-null  int64  \n",
      " 17  previous_cancellations          119390 non-null  int64  \n",
      " 18  previous_bookings_not_canceled  119390 non-null  int64  \n",
      " 19  reserved_room_type              119390 non-null  object \n",
      " 20  assigned_room_type              119390 non-null  object \n",
      " 21  booking_changes                 119390 non-null  int64  \n",
      " 22  deposit_type                    119390 non-null  object \n",
      " 23  agent                           103050 non-null  float64\n",
      " 24  company                         6797 non-null    float64\n",
      " 25  days_in_waiting_list            119390 non-null  int64  \n",
      " 26  customer_type                   119390 non-null  object \n",
      " 27  adr                             119390 non-null  float64\n",
      " 28  required_car_parking_spaces     119390 non-null  int64  \n",
      " 29  total_of_special_requests       119390 non-null  int64  \n",
      " 30  reservation_status              119390 non-null  object \n",
      " 31  reservation_status_date         119390 non-null  object \n",
      "dtypes: float64(4), int64(16), object(12)\n",
      "memory usage: 29.1+ MB\n"
     ]
    }
   ],
   "source": [
    "# Dataset basic information\n",
    "df.info()"
   ]
  },
  {
   "cell_type": "markdown",
   "id": "a22f7197-3b45-457a-9cd6-ba54a71e42a3",
   "metadata": {},
   "source": [
    "- Feature children, country, agent and company has nulls."
   ]
  },
  {
   "cell_type": "code",
   "execution_count": 13,
   "id": "836a8b9e-2e9b-4297-b77d-fbd5ab00f317",
   "metadata": {
    "execution": {
     "iopub.execute_input": "2024-08-27T15:15:25.524508Z",
     "iopub.status.busy": "2024-08-27T15:15:25.524508Z",
     "iopub.status.idle": "2024-08-27T15:15:26.128152Z",
     "shell.execute_reply": "2024-08-27T15:15:26.127491Z",
     "shell.execute_reply.started": "2024-08-27T15:15:25.524508Z"
    }
   },
   "outputs": [
    {
     "name": "stdout",
     "output_type": "stream",
     "text": [
      "Dataset has 31994 duplicates.\n",
      "---------------------------------------------------------------------------------------------------- \n",
      " SHape of dataset after prforming drop duplicates: (87396, 32)\n"
     ]
    }
   ],
   "source": [
    "# Duplicates\n",
    "print(f\"Dataset has {df.duplicated().sum()} duplicates.\")\n",
    "# remove duplicates\n",
    "df.drop_duplicates(inplace=True)\n",
    "print(f\"{'--'*50} \\n SHape of dataset after prforming drop duplicates: {df.shape}\")"
   ]
  },
  {
   "cell_type": "code",
   "execution_count": 14,
   "id": "178f54be-0a7a-413b-a35d-7edffdd5abf8",
   "metadata": {
    "execution": {
     "iopub.execute_input": "2024-08-27T15:15:26.137333Z",
     "iopub.status.busy": "2024-08-27T15:15:26.128152Z",
     "iopub.status.idle": "2024-08-27T15:15:26.341975Z",
     "shell.execute_reply": "2024-08-27T15:15:26.339867Z",
     "shell.execute_reply.started": "2024-08-27T15:15:26.137333Z"
    }
   },
   "outputs": [
    {
     "data": {
      "text/html": [
       "<div>\n",
       "<style scoped>\n",
       "    .dataframe tbody tr th:only-of-type {\n",
       "        vertical-align: middle;\n",
       "    }\n",
       "\n",
       "    .dataframe tbody tr th {\n",
       "        vertical-align: top;\n",
       "    }\n",
       "\n",
       "    .dataframe thead th {\n",
       "        text-align: right;\n",
       "    }\n",
       "</style>\n",
       "<table border=\"1\" class=\"dataframe\">\n",
       "  <thead>\n",
       "    <tr style=\"text-align: right;\">\n",
       "      <th></th>\n",
       "      <th>null_count</th>\n",
       "      <th>%_null</th>\n",
       "    </tr>\n",
       "    <tr>\n",
       "      <th>column</th>\n",
       "      <th></th>\n",
       "      <th></th>\n",
       "    </tr>\n",
       "  </thead>\n",
       "  <tbody>\n",
       "    <tr>\n",
       "      <th>hotel</th>\n",
       "      <td>0</td>\n",
       "      <td>0.0000</td>\n",
       "    </tr>\n",
       "    <tr>\n",
       "      <th>is_canceled</th>\n",
       "      <td>0</td>\n",
       "      <td>0.0000</td>\n",
       "    </tr>\n",
       "    <tr>\n",
       "      <th>lead_time</th>\n",
       "      <td>0</td>\n",
       "      <td>0.0000</td>\n",
       "    </tr>\n",
       "    <tr>\n",
       "      <th>arrival_date_year</th>\n",
       "      <td>0</td>\n",
       "      <td>0.0000</td>\n",
       "    </tr>\n",
       "    <tr>\n",
       "      <th>arrival_date_month</th>\n",
       "      <td>0</td>\n",
       "      <td>0.0000</td>\n",
       "    </tr>\n",
       "    <tr>\n",
       "      <th>arrival_date_week_number</th>\n",
       "      <td>0</td>\n",
       "      <td>0.0000</td>\n",
       "    </tr>\n",
       "    <tr>\n",
       "      <th>arrival_date_day_of_month</th>\n",
       "      <td>0</td>\n",
       "      <td>0.0000</td>\n",
       "    </tr>\n",
       "    <tr>\n",
       "      <th>stays_in_weekend_nights</th>\n",
       "      <td>0</td>\n",
       "      <td>0.0000</td>\n",
       "    </tr>\n",
       "    <tr>\n",
       "      <th>stays_in_week_nights</th>\n",
       "      <td>0</td>\n",
       "      <td>0.0000</td>\n",
       "    </tr>\n",
       "    <tr>\n",
       "      <th>adults</th>\n",
       "      <td>0</td>\n",
       "      <td>0.0000</td>\n",
       "    </tr>\n",
       "    <tr>\n",
       "      <th>children</th>\n",
       "      <td>4</td>\n",
       "      <td>0.0046</td>\n",
       "    </tr>\n",
       "    <tr>\n",
       "      <th>babies</th>\n",
       "      <td>0</td>\n",
       "      <td>0.0000</td>\n",
       "    </tr>\n",
       "    <tr>\n",
       "      <th>meal</th>\n",
       "      <td>0</td>\n",
       "      <td>0.0000</td>\n",
       "    </tr>\n",
       "    <tr>\n",
       "      <th>country</th>\n",
       "      <td>452</td>\n",
       "      <td>0.5172</td>\n",
       "    </tr>\n",
       "    <tr>\n",
       "      <th>market_segment</th>\n",
       "      <td>0</td>\n",
       "      <td>0.0000</td>\n",
       "    </tr>\n",
       "    <tr>\n",
       "      <th>distribution_channel</th>\n",
       "      <td>0</td>\n",
       "      <td>0.0000</td>\n",
       "    </tr>\n",
       "    <tr>\n",
       "      <th>is_repeated_guest</th>\n",
       "      <td>0</td>\n",
       "      <td>0.0000</td>\n",
       "    </tr>\n",
       "    <tr>\n",
       "      <th>previous_cancellations</th>\n",
       "      <td>0</td>\n",
       "      <td>0.0000</td>\n",
       "    </tr>\n",
       "    <tr>\n",
       "      <th>previous_bookings_not_canceled</th>\n",
       "      <td>0</td>\n",
       "      <td>0.0000</td>\n",
       "    </tr>\n",
       "    <tr>\n",
       "      <th>reserved_room_type</th>\n",
       "      <td>0</td>\n",
       "      <td>0.0000</td>\n",
       "    </tr>\n",
       "    <tr>\n",
       "      <th>assigned_room_type</th>\n",
       "      <td>0</td>\n",
       "      <td>0.0000</td>\n",
       "    </tr>\n",
       "    <tr>\n",
       "      <th>booking_changes</th>\n",
       "      <td>0</td>\n",
       "      <td>0.0000</td>\n",
       "    </tr>\n",
       "    <tr>\n",
       "      <th>deposit_type</th>\n",
       "      <td>0</td>\n",
       "      <td>0.0000</td>\n",
       "    </tr>\n",
       "    <tr>\n",
       "      <th>agent</th>\n",
       "      <td>12193</td>\n",
       "      <td>13.9514</td>\n",
       "    </tr>\n",
       "    <tr>\n",
       "      <th>company</th>\n",
       "      <td>82137</td>\n",
       "      <td>93.9826</td>\n",
       "    </tr>\n",
       "    <tr>\n",
       "      <th>days_in_waiting_list</th>\n",
       "      <td>0</td>\n",
       "      <td>0.0000</td>\n",
       "    </tr>\n",
       "    <tr>\n",
       "      <th>customer_type</th>\n",
       "      <td>0</td>\n",
       "      <td>0.0000</td>\n",
       "    </tr>\n",
       "    <tr>\n",
       "      <th>adr</th>\n",
       "      <td>0</td>\n",
       "      <td>0.0000</td>\n",
       "    </tr>\n",
       "    <tr>\n",
       "      <th>required_car_parking_spaces</th>\n",
       "      <td>0</td>\n",
       "      <td>0.0000</td>\n",
       "    </tr>\n",
       "    <tr>\n",
       "      <th>total_of_special_requests</th>\n",
       "      <td>0</td>\n",
       "      <td>0.0000</td>\n",
       "    </tr>\n",
       "    <tr>\n",
       "      <th>reservation_status</th>\n",
       "      <td>0</td>\n",
       "      <td>0.0000</td>\n",
       "    </tr>\n",
       "    <tr>\n",
       "      <th>reservation_status_date</th>\n",
       "      <td>0</td>\n",
       "      <td>0.0000</td>\n",
       "    </tr>\n",
       "  </tbody>\n",
       "</table>\n",
       "</div>"
      ],
      "text/plain": [
       "                                null_count   %_null\n",
       "column                                             \n",
       "hotel                                    0   0.0000\n",
       "is_canceled                              0   0.0000\n",
       "lead_time                                0   0.0000\n",
       "arrival_date_year                        0   0.0000\n",
       "arrival_date_month                       0   0.0000\n",
       "arrival_date_week_number                 0   0.0000\n",
       "arrival_date_day_of_month                0   0.0000\n",
       "stays_in_weekend_nights                  0   0.0000\n",
       "stays_in_week_nights                     0   0.0000\n",
       "adults                                   0   0.0000\n",
       "children                                 4   0.0046\n",
       "babies                                   0   0.0000\n",
       "meal                                     0   0.0000\n",
       "country                                452   0.5172\n",
       "market_segment                           0   0.0000\n",
       "distribution_channel                     0   0.0000\n",
       "is_repeated_guest                        0   0.0000\n",
       "previous_cancellations                   0   0.0000\n",
       "previous_bookings_not_canceled           0   0.0000\n",
       "reserved_room_type                       0   0.0000\n",
       "assigned_room_type                       0   0.0000\n",
       "booking_changes                          0   0.0000\n",
       "deposit_type                             0   0.0000\n",
       "agent                                12193  13.9514\n",
       "company                              82137  93.9826\n",
       "days_in_waiting_list                     0   0.0000\n",
       "customer_type                            0   0.0000\n",
       "adr                                      0   0.0000\n",
       "required_car_parking_spaces              0   0.0000\n",
       "total_of_special_requests                0   0.0000\n",
       "reservation_status                       0   0.0000\n",
       "reservation_status_date                  0   0.0000"
      ]
     },
     "execution_count": 14,
     "metadata": {},
     "output_type": "execute_result"
    }
   ],
   "source": [
    "# Handle nulls\n",
    "null_df=pd.DataFrame({'column':df.columns, 'null_count':df.isna().sum(), '%_null':round(((df.isna().sum()/len(df))*100),4)}).set_index('column')\n",
    "null_df"
   ]
  },
  {
   "cell_type": "markdown",
   "id": "9ee5ec92-cd47-4aa7-9111-8181afb68222",
   "metadata": {},
   "source": [
    "- Feature children, country, agent and company has nulls."
   ]
  },
  {
   "cell_type": "code",
   "execution_count": 16,
   "id": "42314c31-9c02-40a0-8ab1-3737ba9c63f0",
   "metadata": {
    "execution": {
     "iopub.execute_input": "2024-08-27T15:15:26.416610Z",
     "iopub.status.busy": "2024-08-27T15:15:26.416610Z",
     "iopub.status.idle": "2024-08-27T15:15:26.876400Z",
     "shell.execute_reply": "2024-08-27T15:15:26.876400Z",
     "shell.execute_reply.started": "2024-08-27T15:15:26.416610Z"
    },
    "scrolled": true
   },
   "outputs": [
    {
     "data": {
      "image/png": "[encoded data removed]",
      "text/plain": [
       "<Figure size 500x500 with 1 Axes>"
      ]
     },
     "metadata": {},
     "output_type": "display_data"
    }
   ],
   "source": [
    "# Visualize Nulls\n",
    "plt.figure(figsize=(5,5))\n",
    "ax = sns.barplot(x='column', y='null_count', data=null_df[null_df['null_count'] > 0])\n",
    "ax.set_title('Bar plot for columns and their null count')\n",
    "plt.xticks(rotation=45)\n",
    "plt.show()"
   ]
  },
  {
   "cell_type": "code",
   "execution_count": 17,
   "id": "8a04bd48-ae63-497f-9fca-1ba62fb96798",
   "metadata": {
    "execution": {
     "iopub.execute_input": "2024-08-27T15:15:26.882749Z",
     "iopub.status.busy": "2024-08-27T15:15:26.876400Z",
     "iopub.status.idle": "2024-08-27T15:15:27.022682Z",
     "shell.execute_reply": "2024-08-27T15:15:27.020938Z",
     "shell.execute_reply.started": "2024-08-27T15:15:26.882545Z"
    }
   },
   "outputs": [
    {
     "name": "stdout",
     "output_type": "stream",
     "text": [
      "---------------------------------------------------------------------------------------------------- \n",
      " children\n",
      "0.0     79028\n",
      "1.0      4695\n",
      "2.0      3593\n",
      "3.0        75\n",
      "10.0        1\n",
      "Name: count, dtype: int64\n",
      "---------------------------------------------------------------------------------------------------- \n",
      " country\n",
      "PRT    27453\n",
      "GBR    10433\n",
      "FRA     8837\n",
      "ESP     7252\n",
      "DEU     5387\n",
      "       ...  \n",
      "MMR        1\n",
      "BFA        1\n",
      "CYM        1\n",
      "MLI        1\n",
      "KHM        1\n",
      "Name: count, Length: 177, dtype: int64\n",
      "---------------------------------------------------------------------------------------------------- \n",
      " agent\n",
      "9.0      28759\n",
      "240.0    13028\n",
      "14.0      3349\n",
      "7.0       3300\n",
      "250.0     2779\n",
      "         ...  \n",
      "497.0        1\n",
      "337.0        1\n",
      "510.0        1\n",
      "165.0        1\n",
      "449.0        1\n",
      "Name: count, Length: 333, dtype: int64\n",
      "---------------------------------------------------------------------------------------------------- \n",
      " company\n",
      "40.0     851\n",
      "223.0    503\n",
      "45.0     238\n",
      "153.0    206\n",
      "154.0    133\n",
      "        ... \n",
      "10.0       1\n",
      "419.0      1\n",
      "415.0      1\n",
      "425.0      1\n",
      "534.0      1\n",
      "Name: count, Length: 352, dtype: int64\n"
     ]
    }
   ],
   "source": [
    "# Identify columns with null values\n",
    "null_clo = df.columns[df.isnull().any()].tolist()\n",
    "\n",
    "for col in null_clo:\n",
    "    print(f\"{'--'*50} \\n {df[col].value_counts()}\")"
   ]
  },
  {
   "cell_type": "code",
   "execution_count": 18,
   "id": "ad06bd17-08c8-497d-8fa9-ef93e5a55e8d",
   "metadata": {
    "execution": {
     "iopub.execute_input": "2024-08-27T15:15:27.022682Z",
     "iopub.status.busy": "2024-08-27T15:15:27.022682Z",
     "iopub.status.idle": "2024-08-27T15:15:27.379266Z",
     "shell.execute_reply": "2024-08-27T15:15:27.379266Z",
     "shell.execute_reply.started": "2024-08-27T15:15:27.022682Z"
    }
   },
   "outputs": [],
   "source": [
    "## Replace nulls\n",
    "\n",
    "# company feature have 93% null so remove this column\n",
    "df.drop(columns='company', inplace=True)\n",
    "# Replce children, country and agent feature with its mode\n",
    "for col in ['children', 'country','agent']:\n",
    "    df.fillna(df[col].mode()[0], inplace=True)"
   ]
  },
  {
   "cell_type": "code",
   "execution_count": 19,
   "id": "6cef4db7-2922-47d6-91ca-4aa659c12919",
   "metadata": {
    "execution": {
     "iopub.execute_input": "2024-08-27T15:15:27.379266Z",
     "iopub.status.busy": "2024-08-27T15:15:27.379266Z",
     "iopub.status.idle": "2024-08-27T15:15:27.495928Z",
     "shell.execute_reply": "2024-08-27T15:15:27.495928Z",
     "shell.execute_reply.started": "2024-08-27T15:15:27.379266Z"
    }
   },
   "outputs": [
    {
     "data": {
      "text/plain": [
       "hotel                             0\n",
       "is_canceled                       0\n",
       "lead_time                         0\n",
       "arrival_date_year                 0\n",
       "arrival_date_month                0\n",
       "arrival_date_week_number          0\n",
       "arrival_date_day_of_month         0\n",
       "stays_in_weekend_nights           0\n",
       "stays_in_week_nights              0\n",
       "adults                            0\n",
       "children                          0\n",
       "babies                            0\n",
       "meal                              0\n",
       "country                           0\n",
       "market_segment                    0\n",
       "distribution_channel              0\n",
       "is_repeated_guest                 0\n",
       "previous_cancellations            0\n",
       "previous_bookings_not_canceled    0\n",
       "reserved_room_type                0\n",
       "assigned_room_type                0\n",
       "booking_changes                   0\n",
       "deposit_type                      0\n",
       "agent                             0\n",
       "days_in_waiting_list              0\n",
       "customer_type                     0\n",
       "adr                               0\n",
       "required_car_parking_spaces       0\n",
       "total_of_special_requests         0\n",
       "reservation_status                0\n",
       "reservation_status_date           0\n",
       "dtype: int64"
      ]
     },
     "execution_count": 19,
     "metadata": {},
     "output_type": "execute_result"
    }
   ],
   "source": [
    "# Verify nulls\n",
    "df.isna().sum()"
   ]
  },
  {
   "cell_type": "code",
   "execution_count": 20,
   "id": "ffc6bc9c-7d05-4ad1-900f-b7bb72b2a871",
   "metadata": {
    "execution": {
     "iopub.execute_input": "2024-08-27T15:15:27.498838Z",
     "iopub.status.busy": "2024-08-27T15:15:27.498838Z",
     "iopub.status.idle": "2024-08-27T15:15:27.581968Z",
     "shell.execute_reply": "2024-08-27T15:15:27.580771Z",
     "shell.execute_reply.started": "2024-08-27T15:15:27.498838Z"
    }
   },
   "outputs": [
    {
     "data": {
      "text/html": [
       "<div>\n",
       "<style scoped>\n",
       "    .dataframe tbody tr th:only-of-type {\n",
       "        vertical-align: middle;\n",
       "    }\n",
       "\n",
       "    .dataframe tbody tr th {\n",
       "        vertical-align: top;\n",
       "    }\n",
       "\n",
       "    .dataframe thead th {\n",
       "        text-align: right;\n",
       "    }\n",
       "</style>\n",
       "<table border=\"1\" class=\"dataframe\">\n",
       "  <thead>\n",
       "    <tr style=\"text-align: right;\">\n",
       "      <th></th>\n",
       "      <th>hotel</th>\n",
       "      <th>is_canceled</th>\n",
       "      <th>lead_time</th>\n",
       "      <th>arrival_date_year</th>\n",
       "      <th>arrival_date_month</th>\n",
       "      <th>arrival_date_week_number</th>\n",
       "      <th>arrival_date_day_of_month</th>\n",
       "      <th>stays_in_weekend_nights</th>\n",
       "      <th>stays_in_week_nights</th>\n",
       "      <th>adults</th>\n",
       "      <th>children</th>\n",
       "      <th>babies</th>\n",
       "      <th>meal</th>\n",
       "      <th>country</th>\n",
       "      <th>market_segment</th>\n",
       "      <th>distribution_channel</th>\n",
       "      <th>is_repeated_guest</th>\n",
       "      <th>previous_cancellations</th>\n",
       "      <th>previous_bookings_not_canceled</th>\n",
       "      <th>reserved_room_type</th>\n",
       "      <th>assigned_room_type</th>\n",
       "      <th>booking_changes</th>\n",
       "      <th>deposit_type</th>\n",
       "      <th>agent</th>\n",
       "      <th>days_in_waiting_list</th>\n",
       "      <th>customer_type</th>\n",
       "      <th>adr</th>\n",
       "      <th>required_car_parking_spaces</th>\n",
       "      <th>total_of_special_requests</th>\n",
       "      <th>reservation_status</th>\n",
       "      <th>reservation_status_date</th>\n",
       "    </tr>\n",
       "  </thead>\n",
       "  <tbody>\n",
       "    <tr>\n",
       "      <th>0</th>\n",
       "      <td>Resort Hotel</td>\n",
       "      <td>0</td>\n",
       "      <td>342</td>\n",
       "      <td>2015</td>\n",
       "      <td>July</td>\n",
       "      <td>27</td>\n",
       "      <td>1</td>\n",
       "      <td>0</td>\n",
       "      <td>0</td>\n",
       "      <td>2</td>\n",
       "      <td>0.0</td>\n",
       "      <td>0</td>\n",
       "      <td>BB</td>\n",
       "      <td>PRT</td>\n",
       "      <td>Direct</td>\n",
       "      <td>Direct</td>\n",
       "      <td>0</td>\n",
       "      <td>0</td>\n",
       "      <td>0</td>\n",
       "      <td>C</td>\n",
       "      <td>C</td>\n",
       "      <td>3</td>\n",
       "      <td>No Deposit</td>\n",
       "      <td>0.0</td>\n",
       "      <td>0</td>\n",
       "      <td>Transient</td>\n",
       "      <td>0.0</td>\n",
       "      <td>0</td>\n",
       "      <td>0</td>\n",
       "      <td>Check-Out</td>\n",
       "      <td>2015-07-01</td>\n",
       "    </tr>\n",
       "    <tr>\n",
       "      <th>1</th>\n",
       "      <td>Resort Hotel</td>\n",
       "      <td>0</td>\n",
       "      <td>737</td>\n",
       "      <td>2015</td>\n",
       "      <td>July</td>\n",
       "      <td>27</td>\n",
       "      <td>1</td>\n",
       "      <td>0</td>\n",
       "      <td>0</td>\n",
       "      <td>2</td>\n",
       "      <td>0.0</td>\n",
       "      <td>0</td>\n",
       "      <td>BB</td>\n",
       "      <td>PRT</td>\n",
       "      <td>Direct</td>\n",
       "      <td>Direct</td>\n",
       "      <td>0</td>\n",
       "      <td>0</td>\n",
       "      <td>0</td>\n",
       "      <td>C</td>\n",
       "      <td>C</td>\n",
       "      <td>4</td>\n",
       "      <td>No Deposit</td>\n",
       "      <td>0.0</td>\n",
       "      <td>0</td>\n",
       "      <td>Transient</td>\n",
       "      <td>0.0</td>\n",
       "      <td>0</td>\n",
       "      <td>0</td>\n",
       "      <td>Check-Out</td>\n",
       "      <td>2015-07-01</td>\n",
       "    </tr>\n",
       "    <tr>\n",
       "      <th>2</th>\n",
       "      <td>Resort Hotel</td>\n",
       "      <td>0</td>\n",
       "      <td>7</td>\n",
       "      <td>2015</td>\n",
       "      <td>July</td>\n",
       "      <td>27</td>\n",
       "      <td>1</td>\n",
       "      <td>0</td>\n",
       "      <td>1</td>\n",
       "      <td>1</td>\n",
       "      <td>0.0</td>\n",
       "      <td>0</td>\n",
       "      <td>BB</td>\n",
       "      <td>GBR</td>\n",
       "      <td>Direct</td>\n",
       "      <td>Direct</td>\n",
       "      <td>0</td>\n",
       "      <td>0</td>\n",
       "      <td>0</td>\n",
       "      <td>A</td>\n",
       "      <td>C</td>\n",
       "      <td>0</td>\n",
       "      <td>No Deposit</td>\n",
       "      <td>0.0</td>\n",
       "      <td>0</td>\n",
       "      <td>Transient</td>\n",
       "      <td>75.0</td>\n",
       "      <td>0</td>\n",
       "      <td>0</td>\n",
       "      <td>Check-Out</td>\n",
       "      <td>2015-07-02</td>\n",
       "    </tr>\n",
       "    <tr>\n",
       "      <th>3</th>\n",
       "      <td>Resort Hotel</td>\n",
       "      <td>0</td>\n",
       "      <td>13</td>\n",
       "      <td>2015</td>\n",
       "      <td>July</td>\n",
       "      <td>27</td>\n",
       "      <td>1</td>\n",
       "      <td>0</td>\n",
       "      <td>1</td>\n",
       "      <td>1</td>\n",
       "      <td>0.0</td>\n",
       "      <td>0</td>\n",
       "      <td>BB</td>\n",
       "      <td>GBR</td>\n",
       "      <td>Corporate</td>\n",
       "      <td>Corporate</td>\n",
       "      <td>0</td>\n",
       "      <td>0</td>\n",
       "      <td>0</td>\n",
       "      <td>A</td>\n",
       "      <td>A</td>\n",
       "      <td>0</td>\n",
       "      <td>No Deposit</td>\n",
       "      <td>304.0</td>\n",
       "      <td>0</td>\n",
       "      <td>Transient</td>\n",
       "      <td>75.0</td>\n",
       "      <td>0</td>\n",
       "      <td>0</td>\n",
       "      <td>Check-Out</td>\n",
       "      <td>2015-07-02</td>\n",
       "    </tr>\n",
       "    <tr>\n",
       "      <th>4</th>\n",
       "      <td>Resort Hotel</td>\n",
       "      <td>0</td>\n",
       "      <td>14</td>\n",
       "      <td>2015</td>\n",
       "      <td>July</td>\n",
       "      <td>27</td>\n",
       "      <td>1</td>\n",
       "      <td>0</td>\n",
       "      <td>2</td>\n",
       "      <td>2</td>\n",
       "      <td>0.0</td>\n",
       "      <td>0</td>\n",
       "      <td>BB</td>\n",
       "      <td>GBR</td>\n",
       "      <td>Online TA</td>\n",
       "      <td>TA/TO</td>\n",
       "      <td>0</td>\n",
       "      <td>0</td>\n",
       "      <td>0</td>\n",
       "      <td>A</td>\n",
       "      <td>A</td>\n",
       "      <td>0</td>\n",
       "      <td>No Deposit</td>\n",
       "      <td>240.0</td>\n",
       "      <td>0</td>\n",
       "      <td>Transient</td>\n",
       "      <td>98.0</td>\n",
       "      <td>0</td>\n",
       "      <td>1</td>\n",
       "      <td>Check-Out</td>\n",
       "      <td>2015-07-03</td>\n",
       "    </tr>\n",
       "  </tbody>\n",
       "</table>\n",
       "</div>"
      ],
      "text/plain": [
       "          hotel  is_canceled  lead_time  arrival_date_year arrival_date_month  \\\n",
       "0  Resort Hotel            0        342               2015               July   \n",
       "1  Resort Hotel            0        737               2015               July   \n",
       "2  Resort Hotel            0          7               2015               July   \n",
       "3  Resort Hotel            0         13               2015               July   \n",
       "4  Resort Hotel            0         14               2015               July   \n",
       "\n",
       "   arrival_date_week_number  arrival_date_day_of_month  \\\n",
       "0                        27                          1   \n",
       "1                        27                          1   \n",
       "2                        27                          1   \n",
       "3                        27                          1   \n",
       "4                        27                          1   \n",
       "\n",
       "   stays_in_weekend_nights  stays_in_week_nights  adults  children  babies  \\\n",
       "0                        0                     0       2       0.0       0   \n",
       "1                        0                     0       2       0.0       0   \n",
       "2                        0                     1       1       0.0       0   \n",
       "3                        0                     1       1       0.0       0   \n",
       "4                        0                     2       2       0.0       0   \n",
       "\n",
       "  meal country market_segment distribution_channel  is_repeated_guest  \\\n",
       "0   BB     PRT         Direct               Direct                  0   \n",
       "1   BB     PRT         Direct               Direct                  0   \n",
       "2   BB     GBR         Direct               Direct                  0   \n",
       "3   BB     GBR      Corporate            Corporate                  0   \n",
       "4   BB     GBR      Online TA                TA/TO                  0   \n",
       "\n",
       "   previous_cancellations  previous_bookings_not_canceled reserved_room_type  \\\n",
       "0                       0                               0                  C   \n",
       "1                       0                               0                  C   \n",
       "2                       0                               0                  A   \n",
       "3                       0                               0                  A   \n",
       "4                       0                               0                  A   \n",
       "\n",
       "  assigned_room_type  booking_changes deposit_type  agent  \\\n",
       "0                  C                3   No Deposit    0.0   \n",
       "1                  C                4   No Deposit    0.0   \n",
       "2                  C                0   No Deposit    0.0   \n",
       "3                  A                0   No Deposit  304.0   \n",
       "4                  A                0   No Deposit  240.0   \n",
       "\n",
       "   days_in_waiting_list customer_type   adr  required_car_parking_spaces  \\\n",
       "0                     0     Transient   0.0                            0   \n",
       "1                     0     Transient   0.0                            0   \n",
       "2                     0     Transient  75.0                            0   \n",
       "3                     0     Transient  75.0                            0   \n",
       "4                     0     Transient  98.0                            0   \n",
       "\n",
       "   total_of_special_requests reservation_status reservation_status_date  \n",
       "0                          0          Check-Out              2015-07-01  \n",
       "1                          0          Check-Out              2015-07-01  \n",
       "2                          0          Check-Out              2015-07-02  \n",
       "3                          0          Check-Out              2015-07-02  \n",
       "4                          1          Check-Out              2015-07-03  "
      ]
     },
     "execution_count": 20,
     "metadata": {},
     "output_type": "execute_result"
    }
   ],
   "source": [
    "df.head()"
   ]
  },
  {
   "cell_type": "code",
   "execution_count": 21,
   "id": "21ff75c3-ef84-4122-937e-72a19aa6da47",
   "metadata": {
    "execution": {
     "iopub.execute_input": "2024-08-27T15:15:27.581968Z",
     "iopub.status.busy": "2024-08-27T15:15:27.581968Z",
     "iopub.status.idle": "2024-08-27T15:15:27.741824Z",
     "shell.execute_reply": "2024-08-27T15:15:27.741824Z",
     "shell.execute_reply.started": "2024-08-27T15:15:27.581968Z"
    }
   },
   "outputs": [
    {
     "name": "stdout",
     "output_type": "stream",
     "text": [
      "<class 'pandas.core.frame.DataFrame'>\n",
      "Index: 87396 entries, 0 to 119389\n",
      "Data columns (total 31 columns):\n",
      " #   Column                          Non-Null Count  Dtype  \n",
      "---  ------                          --------------  -----  \n",
      " 0   hotel                           87396 non-null  object \n",
      " 1   is_canceled                     87396 non-null  int64  \n",
      " 2   lead_time                       87396 non-null  int64  \n",
      " 3   arrival_date_year               87396 non-null  int64  \n",
      " 4   arrival_date_month              87396 non-null  object \n",
      " 5   arrival_date_week_number        87396 non-null  int64  \n",
      " 6   arrival_date_day_of_month       87396 non-null  int64  \n",
      " 7   stays_in_weekend_nights         87396 non-null  int64  \n",
      " 8   stays_in_week_nights            87396 non-null  int64  \n",
      " 9   adults                          87396 non-null  int64  \n",
      " 10  children                        87396 non-null  float64\n",
      " 11  babies                          87396 non-null  int64  \n",
      " 12  meal                            87396 non-null  object \n",
      " 13  country                         87396 non-null  object \n",
      " 14  market_segment                  87396 non-null  object \n",
      " 15  distribution_channel            87396 non-null  object \n",
      " 16  is_repeated_guest               87396 non-null  int64  \n",
      " 17  previous_cancellations          87396 non-null  int64  \n",
      " 18  previous_bookings_not_canceled  87396 non-null  int64  \n",
      " 19  reserved_room_type              87396 non-null  object \n",
      " 20  assigned_room_type              87396 non-null  object \n",
      " 21  booking_changes                 87396 non-null  int64  \n",
      " 22  deposit_type                    87396 non-null  object \n",
      " 23  agent                           87396 non-null  float64\n",
      " 24  days_in_waiting_list            87396 non-null  int64  \n",
      " 25  customer_type                   87396 non-null  object \n",
      " 26  adr                             87396 non-null  float64\n",
      " 27  required_car_parking_spaces     87396 non-null  int64  \n",
      " 28  total_of_special_requests       87396 non-null  int64  \n",
      " 29  reservation_status              87396 non-null  object \n",
      " 30  reservation_status_date         87396 non-null  object \n",
      "dtypes: float64(3), int64(16), object(12)\n",
      "memory usage: 21.3+ MB\n"
     ]
    }
   ],
   "source": [
    "# Checking info\n",
    "df.info()"
   ]
  },
  {
   "cell_type": "markdown",
   "id": "0d2a0586-6c01-4a69-9bd1-e879e396ad4a",
   "metadata": {},
   "source": [
    "- Features 'children' and 'agent' are in float type, convert them to apropriate data type int.\n",
    "- Feature 'reservation_status_date' is in object format, nned to convert to date format."
   ]
  },
  {
   "cell_type": "code",
   "execution_count": 39,
   "id": "f219dcfe-5f43-482d-87d8-9ed87cef0127",
   "metadata": {
    "execution": {
     "iopub.execute_input": "2024-08-27T15:17:11.630059Z",
     "iopub.status.busy": "2024-08-27T15:17:11.630059Z",
     "iopub.status.idle": "2024-08-27T15:17:11.713322Z",
     "shell.execute_reply": "2024-08-27T15:17:11.711492Z",
     "shell.execute_reply.started": "2024-08-27T15:17:11.630059Z"
    }
   },
   "outputs": [
    {
     "name": "stdout",
     "output_type": "stream",
     "text": [
      "Categorical Variables : \n",
      " ['hotel', 'arrival_date_month', 'meal', 'country', 'market_segment', 'distribution_channel', 'reserved_room_type', 'assigned_room_type', 'deposit_type', 'customer_type', 'reservation_status', 'reservation_status_date'] \n",
      " ---------------------------------------------------------------------------------------------------- \n",
      " Numericals Variables : \n",
      " ['is_canceled', 'lead_time', 'arrival_date_year', 'arrival_date_week_number', 'arrival_date_day_of_month', 'stays_in_weekend_nights', 'stays_in_week_nights', 'adults', 'children', 'babies', 'is_repeated_guest', 'previous_cancellations', 'previous_bookings_not_canceled', 'booking_changes', 'agent', 'days_in_waiting_list', 'adr', 'required_car_parking_spaces', 'total_of_special_requests'] \n",
      " ----------------------------------------------------------------------------------------------------\n",
      "Discreate Variables : \n",
      " ['is_canceled', 'arrival_date_year', 'arrival_date_week_number', 'arrival_date_day_of_month', 'stays_in_weekend_nights', 'stays_in_week_nights', 'adults', 'children', 'babies', 'is_repeated_guest', 'previous_cancellations', 'previous_bookings_not_canceled', 'booking_changes', 'required_car_parking_spaces', 'total_of_special_requests'] \n",
      " ---------------------------------------------------------------------------------------------------- \n",
      " Contineous Variables : \n",
      " ['lead_time', 'agent', 'days_in_waiting_list', 'adr'] \n",
      " ----------------------------------------------------------------------------------------------------\n"
     ]
    }
   ],
   "source": [
    "# Find categorical and numerical variable\n",
    "categorical_var = [var for var in df.columns if df[var].dtype == 'object']\n",
    "numerical_var = [var for var in df.columns if var not in categorical_var]\n",
    "\n",
    "discrete_var = [var for var in numerical_var if df[var].nunique() < 100]\n",
    "continuous_var = [var for var in numerical_var if var not in discrete_var]\n",
    "\n",
    "# Print variables\n",
    "print(f\"Categorical Variables : \\n {categorical_var} \\n {'--'*50} \\n Numericals Variables : \\n {numerical_var} \\n {'--'*50}\")\n",
    "print(f\"Discreate Variables : \\n {discrete_var} \\n {'--'*50} \\n Contineous Variables : \\n {continuous_var} \\n {'--'*50}\")"
   ]
  },
  {
   "cell_type": "code",
   "execution_count": null,
   "id": "e2eac210-5f14-4d74-8e8b-d1a31a56471d",
   "metadata": {},
   "outputs": [],
   "source": [
    "# In "
   ]
  },
  {
   "cell_type": "code",
   "execution_count": 47,
   "id": "0ac33b23-736e-4a56-8d5f-ea2d985dced2",
   "metadata": {
    "execution": {
     "iopub.execute_input": "2024-08-27T15:26:11.400938Z",
     "iopub.status.busy": "2024-08-27T15:26:11.400938Z",
     "iopub.status.idle": "2024-08-27T15:26:22.897553Z",
     "shell.execute_reply": "2024-08-27T15:26:22.897553Z",
     "shell.execute_reply.started": "2024-08-27T15:26:11.400938Z"
    }
   },
   "outputs": [
    {
     "name": "stdout",
     "output_type": "stream",
     "text": [
      "______________________________________________________________________________\n"
     ]
    },
    {
     "data": {
      "image/png": "[encoded data removed]",
      "text/plain": [
       "<Figure size 1500x600 with 2 Axes>"
      ]
     },
     "metadata": {},
     "output_type": "display_data"
    },
    {
     "name": "stdout",
     "output_type": "stream",
     "text": [
      "______________________________________________________________________________\n"
     ]
    },
    {
     "data": {
      "image/png": "[encoded data removed]",
      "text/plain": [
       "<Figure size 1500x600 with 2 Axes>"
      ]
     },
     "metadata": {},
     "output_type": "display_data"
    },
    {
     "name": "stdout",
     "output_type": "stream",
     "text": [
      "______________________________________________________________________________\n"
     ]
    },
    {
     "data": {
      "image/png": "[encoded data removed]",
      "text/plain": [
       "<Figure size 1500x600 with 2 Axes>"
      ]
     },
     "metadata": {},
     "output_type": "display_data"
    },
    {
     "name": "stdout",
     "output_type": "stream",
     "text": [
      "______________________________________________________________________________\n"
     ]
    },
    {
     "data": {
      "image/png": "[encoded data removed]",
      "text/plain": [
       "<Figure size 1500x600 with 2 Axes>"
      ]
     },
     "metadata": {},
     "output_type": "display_data"
    }
   ],
   "source": [
    "# Checking outliers using boxplot\n",
    "from scipy.stats import norm\n",
    "for i in continuous_var:\n",
    "  plt.figure(figsize=(15,6))\n",
    "  plt.subplot(1,2,1)\n",
    "  ax=sns.boxplot(data=df[i])\n",
    "  ax.set_title(f'{i}')\n",
    "  ax.set_ylabel(i)\n",
    "\n",
    "  plt.subplot(1,2,2)\n",
    "  ax=sns.distplot(df[i], fit=norm)\n",
    "  ax.set_title(f'skewness of {i} : {df[i].skew()}')\n",
    "  ax.set_xlabel(i)\n",
    "  print('__'*39)\n",
    "  plt.show()"
   ]
  },
  {
   "cell_type": "markdown",
   "id": "9991b916-c922-491c-82c6-dcfa491e440f",
   "metadata": {},
   "source": [
    "#### Feature Engineering"
   ]
  },
  {
   "cell_type": "code",
   "execution_count": null,
   "id": "d0657b16-0834-49ea-b5cb-448412b69413",
   "metadata": {
    "execution": {
     "iopub.status.busy": "2024-08-27T15:15:29.504988Z",
     "iopub.status.idle": "2024-08-27T15:15:29.504988Z",
     "shell.execute_reply": "2024-08-27T15:15:29.504988Z",
     "shell.execute_reply.started": "2024-08-27T15:15:29.504988Z"
    }
   },
   "outputs": [],
   "source": [
    "## Assigning appropriate data type to featuresa\n",
    "df[['children','agent']]=df[['children','agent']].astype('int64')\n",
    "df['reservation_status_date']=pd.to_datetime(df['reservation_status_date'], format='%Y-%m-%d')"
   ]
  },
  {
   "cell_type": "code",
   "execution_count": null,
   "id": "ecc9361a-cfc6-4dcd-a515-8ee538892582",
   "metadata": {
    "execution": {
     "iopub.status.busy": "2024-08-27T15:15:29.512987Z",
     "iopub.status.idle": "2024-08-27T15:15:29.514183Z",
     "shell.execute_reply": "2024-08-27T15:15:29.514183Z",
     "shell.execute_reply.started": "2024-08-27T15:15:29.514183Z"
    }
   },
   "outputs": [],
   "source": [
    "# verifing chenges\n",
    "df.info()"
   ]
  },
  {
   "cell_type": "code",
   "execution_count": null,
   "id": "9ed783b1-2a81-446b-b6a9-2586da0fa573",
   "metadata": {
    "execution": {
     "iopub.status.busy": "2024-08-27T15:15:29.518498Z",
     "iopub.status.idle": "2024-08-27T15:15:29.518498Z",
     "shell.execute_reply": "2024-08-27T15:15:29.518498Z",
     "shell.execute_reply.started": "2024-08-27T15:15:29.518498Z"
    }
   },
   "outputs": [],
   "source": [
    "# Creating new meaningfull feature\n",
    "df['total_stays']=df.stays_in_week_nights+df.stays_in_week_nights\n",
    "df['total_people']=df.adults+df.babies+df.children\n",
    "df['total_childrens']=df.children+df.babies\n",
    "df['reserved_room_assigned']=np.where(df.reserved_room_type==df.assigned_room_type, 'yes', 'no')\n",
    "df['guest_category']=np.where(df.total_people==1, 'single', np.where(df.total_people==2, 'couple', 'family'))\n",
    "df['lead_time_category']=np.where(df.lead_time<=30, 'low', np.where((df.lead_time>=31) & (df.lead_time<=90), 'medium', 'high'))\n",
    "\n",
    "# Drop unnecessary features after new features created\n",
    "df.drop(columns=['stays_in_week_nights','stays_in_week_nights','adults','children','babies','reserved_room_type', 'assigned_room_type', 'total_people', 'lead_time'], inplace=True, axis=1)"
   ]
  },
  {
   "cell_type": "code",
   "execution_count": null,
   "id": "64a81883-5436-47e6-8536-fa0f57a5bcc8",
   "metadata": {
    "execution": {
     "iopub.status.busy": "2024-08-27T15:15:29.526503Z",
     "iopub.status.idle": "2024-08-27T15:15:29.526503Z",
     "shell.execute_reply": "2024-08-27T15:15:29.526503Z",
     "shell.execute_reply.started": "2024-08-27T15:15:29.526503Z"
    }
   },
   "outputs": [],
   "source": [
    "# df info\n",
    "df.info()"
   ]
  },
  {
   "cell_type": "code",
   "execution_count": null,
   "id": "dd8a18b8-0477-4154-acc9-935212d10ae0",
   "metadata": {
    "execution": {
     "iopub.status.busy": "2024-08-27T15:15:29.526503Z",
     "iopub.status.idle": "2024-08-27T15:15:29.526503Z",
     "shell.execute_reply": "2024-08-27T15:15:29.526503Z",
     "shell.execute_reply.started": "2024-08-27T15:15:29.526503Z"
    }
   },
   "outputs": [],
   "source": [
    "df.head()"
   ]
  },
  {
   "cell_type": "markdown",
   "id": "14588021-f627-43db-885f-069c92b6488e",
   "metadata": {},
   "source": [
    "#### EDA"
   ]
  },
  {
   "cell_type": "code",
   "execution_count": null,
   "id": "cdb8c37b-b147-480e-a91a-82fed0e5fe97",
   "metadata": {
    "execution": {
     "iopub.status.busy": "2024-08-27T15:15:29.534498Z",
     "iopub.status.idle": "2024-08-27T15:15:29.542498Z",
     "shell.execute_reply": "2024-08-27T15:15:29.542498Z",
     "shell.execute_reply.started": "2024-08-27T15:15:29.542498Z"
    }
   },
   "outputs": [],
   "source": [
    "# Obtaining target variables\n",
    "excluded_var=[var for var in df.columns if len(df[var].value_counts())>15]\n",
    "included_var=[var for var in df.columns if var not in excluded_var]\n",
    "print(f\"Excluded variable: {excluded_var} \\n {'--'*50} \\n Included Variables {included_var}\")"
   ]
  },
  {
   "cell_type": "code",
   "execution_count": null,
   "id": "d192f55a-3ed2-4297-b5a3-8b4be1ce2e59",
   "metadata": {
    "execution": {
     "iopub.status.busy": "2024-08-27T15:15:29.546799Z",
     "iopub.status.idle": "2024-08-27T15:15:29.546799Z",
     "shell.execute_reply": "2024-08-27T15:15:29.546799Z",
     "shell.execute_reply.started": "2024-08-27T15:15:29.546799Z"
    }
   },
   "outputs": [],
   "source": [
    "# Defining r to autofit the number and size of plots\n",
    "r = int(len(included_var) / 3 + 1)\n",
    "\n",
    "# Defining a function to annotate the percent count of each value\n",
    "def annot_percent(ax):\n",
    "    '''Takes axes as input and labels the percent count of each bar in a countplot'''\n",
    "    for p in ax.patches:\n",
    "        total = sum([p.get_height() for p in ax.patches]) \n",
    "        percent = round((p.get_height() / total) * 100, 2) \n",
    "        x = p.get_x() + p.get_width() / 2 \n",
    "        y = p.get_height()\n",
    "        ax.annotate(f'{percent}%', (x, y), ha='center', va='bottom')"
   ]
  },
  {
   "cell_type": "code",
   "execution_count": null,
   "id": "aa1dda55-4069-48b7-97b2-4b38c697b4e6",
   "metadata": {
    "execution": {
     "iopub.status.busy": "2024-08-27T15:15:29.546799Z",
     "iopub.status.idle": "2024-08-27T15:15:29.546799Z",
     "shell.execute_reply": "2024-08-27T15:15:29.546799Z",
     "shell.execute_reply.started": "2024-08-27T15:15:29.546799Z"
    }
   },
   "outputs": [],
   "source": [
    "# Plotting countplots with respect to is_canceled and other variables\n",
    "r = len(included_var)\n",
    "\n",
    "for i, var in enumerate(included_var):\n",
    "    fig, ax = plt.subplots(1, 1, figsize=(10, 5)) \n",
    "    sns.countplot(x=df[var], hue='is_canceled', data=df, ax=ax)\n",
    "    ax.set_title(f\"Countplot for {var} w.r.t. is_canceled\")\n",
    "    annot_percent(ax)\n",
    "    plt.tight_layout()\n",
    "    plt.show()"
   ]
  },
  {
   "cell_type": "markdown",
   "id": "0396ea42-8c09-4fb5-9aea-9a07fe17b38e",
   "metadata": {},
   "source": [
    "- Observations:\n",
    "    - Most of the customers booked City hotel than resort but city hotels has double cancellation rate than that of resort.\n",
    "    - 27.49% which is almost 1/4 of customers who cancelled their booking.\n",
    "    - In 2016 most of bookings were made by customers and number of bookings reduced by 12.24% in 2017 with constant cansallation rate.\n",
    "    -Fromn April to August booking cancellation increase gradually with August is top with 4.15%. In November, December, January less number of booking were made by customers which is nearly 6%.\n",
    "    We can give offer in this 3 month for increasing revenue in this 3 month.\n",
    "    - \"BB\" type meal is all time favourite amonth all types of meal followed by 'SC' and 'HB', 'BB' meal is most ordered by customers amoung all.\n",
    "    - 'FB' is very less number of time ordered food by customers.\n",
    "    - Most booking were made through Online market segment followed by Offline TA/TO. Booking made though Aviation merket segament is less probability of booking cancellation followed by Corporate.\n",
    "    - There is less probabilty that customer revisit. Only 3.91% customers were visited again.\n",
    "    - Customer who previously cancelled booking are more chance they will cancel booking.\n",
    "    - Customer intrested in booking with no deposite.\n",
    "    - Transient type customers were made most number of booking followed by Transient-Party. We can offer booking made for group for generate more revenue through this type customers cause group type customers are lee in numbers who made booking.\n",
    "    - Most of the customers not required space for parking but generally 1 is sufficient space for parking.\n",
    "    - Customer can made 1 to 2 special request in booking period but most of the cutomers not asked for any special request.\n",
    "    - Most of the customers are visit without childrens, can be change by taking several steps to boost visits of customers with childrens.\n",
    "    - Reserved room not assigned is not reseaon of cancellation of bookings.\n",
    "    - Most of the booking cancelled by customes who have assigned reserved room.\n",
    "    - Most booking were made by couples followed by single people. Need to boost booking for family and single people.\n",
    "    - More than 90 days prebooking has around 50% changes that booking will cancel. Most of the prebookings made for 1 month before."
   ]
  },
  {
   "cell_type": "code",
   "execution_count": null,
   "id": "d681fe55-489b-4d3f-89c8-d6b15ad20880",
   "metadata": {
    "execution": {
     "iopub.status.busy": "2024-08-27T15:15:29.554801Z",
     "iopub.status.idle": "2024-08-27T15:15:29.554801Z",
     "shell.execute_reply": "2024-08-27T15:15:29.554801Z",
     "shell.execute_reply.started": "2024-08-27T15:15:29.554801Z"
    }
   },
   "outputs": [],
   "source": [
    "df.head()"
   ]
  },
  {
   "cell_type": "code",
   "execution_count": null,
   "id": "e1af71e8-d854-49d7-a9f2-9616e9175ce5",
   "metadata": {
    "execution": {
     "iopub.status.busy": "2024-08-27T15:15:29.563388Z",
     "iopub.status.idle": "2024-08-27T15:15:29.566717Z",
     "shell.execute_reply": "2024-08-27T15:15:29.563388Z",
     "shell.execute_reply.started": "2024-08-27T15:15:29.563388Z"
    }
   },
   "outputs": [],
   "source": [
    "# Plotting bxplot with respect to ADR and other variables\n",
    "for i, var in enumerate(included_var):\n",
    "    fig, ax = plt.subplots(1, 1, figsize=(10, 5)) \n",
    "    sns.violinplot(x=df[var], y='adr', data=df, ax=ax)\n",
    "    ax.set_title(f\"Boxplot for ADR with respect to {var}\")\n",
    "    plt.tight_layout() \n",
    "    plt.show()"
   ]
  },
  {
   "cell_type": "code",
   "execution_count": null,
   "id": "223ba8a1-bdf3-4ee6-9a97-13af1e9f9a79",
   "metadata": {},
   "outputs": [],
   "source": []
  }
 ],
 "metadata": {
  "kernelspec": {
   "display_name": "Python 3 (ipykernel)",
   "language": "python",
   "name": "python3"
  },
  "language_info": {
   "codemirror_mode": {
    "name": "ipython",
    "version": 3
   },
   "file_extension": ".py",
   "mimetype": "text/x-python",
   "name": "python",
   "nbconvert_exporter": "python",
   "pygments_lexer": "ipython3",
   "version": "3.12.3"
  }
 },
 "nbformat": 4,
 "nbformat_minor": 5
}
